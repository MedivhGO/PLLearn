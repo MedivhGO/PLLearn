{
 "cells": [
  {
   "cell_type": "code",
   "execution_count": null,
   "metadata": {},
   "outputs": [],
   "source": [
    "a = 5\n",
    "b = 10\n",
    "c = 3\n",
    "d = 4\n",
    "e = 5\n",
    "a += b\n",
    "a -= c\n",
    "a *= d\n",
    "a /= e\n",
    "print(\"a = \",a)\n",
    "flag1 = 3 > 2\n",
    "flag2 = 2 < 1\n",
    "flag3 = flag1 and flag2\n",
    "flag4 = flag1 or flag2\n",
    "flag5 = not flag1\n",
    "print(\"flag1 = \",flag1)\n",
    "print(\"flag2 = \",flag2)\n",
    "print(\"flag3 = \",flag3)\n",
    "print(\"flag4 = \",flag)\n",
    "print(\"flag1 = \",flag1)\n"
   ]
  }
 ],
 "metadata": {
  "kernelspec": {
   "display_name": "Python 3",
   "language": "python",
   "name": "python3"
  },
  "language_info": {
   "codemirror_mode": {
    "name": "ipython",
    "version": 3
   },
   "file_extension": ".py",
   "mimetype": "text/x-python",
   "name": "python",
   "nbconvert_exporter": "python",
   "pygments_lexer": "ipython3",
   "version": "3.6.5"
  }
 },
 "nbformat": 4,
 "nbformat_minor": 2
}
