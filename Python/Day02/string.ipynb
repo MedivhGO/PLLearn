{
 "cells": [
  {
   "cell_type": "code",
   "execution_count": 2,
   "metadata": {},
   "outputs": [
    {
     "name": "stdout",
     "output_type": "stream",
     "text": [
      "字符串长度是:  13\n",
      "单词首字母大写:  Hello, World!\n",
      "字符串变大写:  HELLO, WORLD!\n",
      "字符串是不是大写:  False\n",
      "字符串是不是以hello开头:  True\n",
      "字符串是不是以hello结尾:  False\n",
      "字符串是不是以感叹号开头:  False\n",
      "字符串是不是以感叹号结尾: True\n",
      "Hello, World! - ljq\n"
     ]
    }
   ],
   "source": [
    "str1 = 'hello, world!'\n",
    "print('字符串长度是: ',len(str1))\n",
    "print('单词首字母大写: ',str1.title())\n",
    "print('字符串变大写: ',str1.upper())\n",
    "print('字符串是不是大写: ',str1.isupper())\n",
    "print('字符串是不是以hello开头: ',str1.startswith('hello'))\n",
    "print('字符串是不是以hello结尾: ',str1.endswith('hello'))\n",
    "print('字符串是不是以感叹号开头: ',str1.startswith('!'))\n",
    "print('字符串是不是以感叹号结尾:', str1.endswith('!'))\n",
    "str2 = '- ljq'\n",
    "str3 = str1.title() + ' ' + str2.lower()\n",
    "print(str3)"
   ]
  },
  {
   "cell_type": "code",
   "execution_count": null,
   "metadata": {},
   "outputs": [],
   "source": []
  }
 ],
 "metadata": {
  "kernelspec": {
   "display_name": "Python 3",
   "language": "python",
   "name": "python3"
  },
  "language_info": {
   "codemirror_mode": {
    "name": "ipython",
    "version": 3
   },
   "file_extension": ".py",
   "mimetype": "text/x-python",
   "name": "python",
   "nbconvert_exporter": "python",
   "pygments_lexer": "ipython3",
   "version": "3.6.5"
  }
 },
 "nbformat": 4,
 "nbformat_minor": 2
}
