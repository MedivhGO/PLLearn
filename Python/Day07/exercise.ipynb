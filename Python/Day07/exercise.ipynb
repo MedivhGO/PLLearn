{
 "cells": [
  {
   "cell_type": "code",
   "execution_count": 3,
   "metadata": {},
   "outputs": [
    {
     "name": "stdout",
     "output_type": "stream",
     "text": [
      "北京欢迎你为你开天辟地。。。。。\n",
      "京欢迎你为你开天辟地。。。。。北\n",
      "欢迎你为你开天辟地。。。。。北京\n",
      "迎你为你开天辟地。。。。。北京欢\n",
      "你为你开天辟地。。。。。北京欢迎\n",
      "为你开天辟地。。。。。北京欢迎你\n",
      "你开天辟地。。。。。北京欢迎你为\n",
      "开天辟地。。。。。北京欢迎你为你\n",
      "天辟地。。。。。北京欢迎你为你开\n",
      "辟地。。。。。北京欢迎你为你开天\n",
      "地。。。。。北京欢迎你为你开天辟\n",
      "。。。。。北京欢迎你为你开天辟地\n",
      "。。。。北京欢迎你为你开天辟地。\n",
      "。。。北京欢迎你为你开天辟地。。\n",
      "。。北京欢迎你为你开天辟地。。。\n",
      "。北京欢迎你为你开天辟地。。。。\n",
      "北京欢迎你为你开天辟地。。。。。\n",
      "京欢迎你为你开天辟地。。。。。北\n",
      "欢迎你为你开天辟地。。。。。北京\n",
      "迎你为你开天辟地。。。。。北京欢\n",
      "你为你开天辟地。。。。。北京欢迎\n",
      "为你开天辟地。。。。。北京欢迎你\n",
      "你开天辟地。。。。。北京欢迎你为\n",
      "开天辟地。。。。。北京欢迎你为你\n",
      "天辟地。。。。。北京欢迎你为你开\n",
      "辟地。。。。。北京欢迎你为你开天\n",
      "地。。。。。北京欢迎你为你开天辟\n",
      "。。。。。北京欢迎你为你开天辟地\n",
      "。。。。北京欢迎你为你开天辟地。\n",
      "。。。北京欢迎你为你开天辟地。。\n",
      "。。北京欢迎你为你开天辟地。。。\n",
      "。北京欢迎你为你开天辟地。。。。\n",
      "北京欢迎你为你开天辟地。。。。。\n",
      "京欢迎你为你开天辟地。。。。。北\n",
      "欢迎你为你开天辟地。。。。。北京\n",
      "迎你为你开天辟地。。。。。北京欢\n",
      "你为你开天辟地。。。。。北京欢迎\n",
      "为你开天辟地。。。。。北京欢迎你\n",
      "你开天辟地。。。。。北京欢迎你为\n",
      "开天辟地。。。。。北京欢迎你为你\n",
      "天辟地。。。。。北京欢迎你为你开\n",
      "辟地。。。。。北京欢迎你为你开天\n",
      "地。。。。。北京欢迎你为你开天辟\n",
      "。。。。。北京欢迎你为你开天辟地\n",
      "。。。。北京欢迎你为你开天辟地。\n",
      "。。。北京欢迎你为你开天辟地。。\n",
      "。。北京欢迎你为你开天辟地。。。\n",
      "。北京欢迎你为你开天辟地。。。。\n",
      "北京欢迎你为你开天辟地。。。。。\n",
      "京欢迎你为你开天辟地。。。。。北\n",
      "欢迎你为你开天辟地。。。。。北京\n",
      "迎你为你开天辟地。。。。。北京欢\n",
      "你为你开天辟地。。。。。北京欢迎\n",
      "为你开天辟地。。。。。北京欢迎你\n",
      "你开天辟地。。。。。北京欢迎你为\n",
      "开天辟地。。。。。北京欢迎你为你\n",
      "天辟地。。。。。北京欢迎你为你开\n",
      "辟地。。。。。北京欢迎你为你开天\n",
      "地。。。。。北京欢迎你为你开天辟\n",
      "。。。。。北京欢迎你为你开天辟地\n",
      "。。。。北京欢迎你为你开天辟地。\n",
      "。。。北京欢迎你为你开天辟地。。\n",
      "。。北京欢迎你为你开天辟地。。。\n",
      "。北京欢迎你为你开天辟地。。。。\n",
      "北京欢迎你为你开天辟地。。。。。\n",
      "京欢迎你为你开天辟地。。。。。北\n",
      "欢迎你为你开天辟地。。。。。北京\n",
      "迎你为你开天辟地。。。。。北京欢\n",
      "你为你开天辟地。。。。。北京欢迎\n",
      "为你开天辟地。。。。。北京欢迎你\n",
      "你开天辟地。。。。。北京欢迎你为\n",
      "开天辟地。。。。。北京欢迎你为你\n",
      "天辟地。。。。。北京欢迎你为你开\n",
      "辟地。。。。。北京欢迎你为你开天\n",
      "地。。。。。北京欢迎你为你开天辟\n",
      "。。。。。北京欢迎你为你开天辟地\n",
      "。。。。北京欢迎你为你开天辟地。\n",
      "。。。北京欢迎你为你开天辟地。。\n",
      "。。北京欢迎你为你开天辟地。。。\n"
     ]
    },
    {
     "ename": "KeyboardInterrupt",
     "evalue": "",
     "traceback": [
      "\u001b[0;31m---------------------------------------------------------------------------\u001b[0m",
      "\u001b[0;31mKeyboardInterrupt\u001b[0m                         Traceback (most recent call last)",
      "\u001b[0;32m<ipython-input-3-8ac9c0503419>\u001b[0m in \u001b[0;36m<module>\u001b[0;34m()\u001b[0m\n\u001b[1;32m     10\u001b[0m         \u001b[0mcontent\u001b[0m \u001b[0;34m=\u001b[0m \u001b[0mcontent\u001b[0m\u001b[0;34m[\u001b[0m\u001b[0;36m1\u001b[0m\u001b[0;34m:\u001b[0m\u001b[0;34m]\u001b[0m \u001b[0;34m+\u001b[0m \u001b[0mcontent\u001b[0m\u001b[0;34m[\u001b[0m\u001b[0;36m0\u001b[0m\u001b[0;34m]\u001b[0m\u001b[0;34m\u001b[0m\u001b[0m\n\u001b[1;32m     11\u001b[0m \u001b[0;32mif\u001b[0m \u001b[0m__name__\u001b[0m \u001b[0;34m==\u001b[0m \u001b[0;34m'__main__'\u001b[0m\u001b[0;34m:\u001b[0m\u001b[0;34m\u001b[0m\u001b[0m\n\u001b[0;32m---> 12\u001b[0;31m     \u001b[0mmain\u001b[0m\u001b[0;34m(\u001b[0m\u001b[0;34m)\u001b[0m\u001b[0;34m\u001b[0m\u001b[0m\n\u001b[0m",
      "\u001b[0;32m<ipython-input-3-8ac9c0503419>\u001b[0m in \u001b[0;36mmain\u001b[0;34m()\u001b[0m\n\u001b[1;32m      7\u001b[0m         \u001b[0mos\u001b[0m\u001b[0;34m.\u001b[0m\u001b[0msystem\u001b[0m\u001b[0;34m(\u001b[0m\u001b[0;34m'cls'\u001b[0m\u001b[0;34m)\u001b[0m\u001b[0;34m\u001b[0m\u001b[0m\n\u001b[1;32m      8\u001b[0m         \u001b[0mprint\u001b[0m\u001b[0;34m(\u001b[0m\u001b[0mcontent\u001b[0m\u001b[0;34m)\u001b[0m\u001b[0;34m\u001b[0m\u001b[0m\n\u001b[0;32m----> 9\u001b[0;31m         \u001b[0mtime\u001b[0m\u001b[0;34m.\u001b[0m\u001b[0msleep\u001b[0m\u001b[0;34m(\u001b[0m\u001b[0;36m0.2\u001b[0m\u001b[0;34m)\u001b[0m\u001b[0;34m\u001b[0m\u001b[0m\n\u001b[0m\u001b[1;32m     10\u001b[0m         \u001b[0mcontent\u001b[0m \u001b[0;34m=\u001b[0m \u001b[0mcontent\u001b[0m\u001b[0;34m[\u001b[0m\u001b[0;36m1\u001b[0m\u001b[0;34m:\u001b[0m\u001b[0;34m]\u001b[0m \u001b[0;34m+\u001b[0m \u001b[0mcontent\u001b[0m\u001b[0;34m[\u001b[0m\u001b[0;36m0\u001b[0m\u001b[0;34m]\u001b[0m\u001b[0;34m\u001b[0m\u001b[0m\n\u001b[1;32m     11\u001b[0m \u001b[0;32mif\u001b[0m \u001b[0m__name__\u001b[0m \u001b[0;34m==\u001b[0m \u001b[0;34m'__main__'\u001b[0m\u001b[0;34m:\u001b[0m\u001b[0;34m\u001b[0m\u001b[0m\n",
      "\u001b[0;31mKeyboardInterrupt\u001b[0m: "
     ],
     "output_type": "error"
    }
   ],
   "source": [
    "import os\n",
    "import time\n",
    "\n",
    "def main():\n",
    "    content = '北京欢迎你为你开天辟地。。。。。'\n",
    "    while True:\n",
    "        os.system('cls')\n",
    "        print(content)\n",
    "        time.sleep(0.2)\n",
    "        content = content[1:] + content[0]\n",
    "if __name__ == '__main__':\n",
    "    main()"
   ]
  },
  {
   "cell_type": "code",
   "execution_count": 5,
   "metadata": {},
   "outputs": [
    {
     "name": "stdout",
     "output_type": "stream",
     "text": [
      "cpp\n"
     ]
    }
   ],
   "source": [
    "def get_suffix(filename,has_dot=False):\n",
    "    pos = filename.rfind('.')\n",
    "    if 0 < pos < len(filename)-1:\n",
    "        index = pos if has_dot else pos+1\n",
    "        return filename[index:]\n",
    "    else:\n",
    "        return ''\n",
    "print(get_suffix('bacsd.cpp'))"
   ]
  },
  {
   "cell_type": "code",
   "execution_count": 6,
   "metadata": {},
   "outputs": [
    {
     "name": "stdout",
     "output_type": "stream",
     "text": [
      "(9, 8)\n"
     ]
    }
   ],
   "source": [
    "def max2(x):\n",
    "    m1,m2 = (x[0],x[1]) if x[0] > x[1] else (x[1],x[0])\n",
    "    for index in range(2,len(x)):\n",
    "        if x[index] > m1:\n",
    "            m2 = m1\n",
    "            m1 = x[index]\n",
    "        elif x[index] > m2:\n",
    "            m2 = x[index]\n",
    "    return m1,m2\n",
    "\n",
    "print(max2([x for x in range(1,10)]))\n",
    "            "
   ]
  },
  {
   "cell_type": "code",
   "execution_count": null,
   "metadata": {},
   "outputs": [],
   "source": []
  }
 ],
 "metadata": {
  "kernelspec": {
   "display_name": "Python 3",
   "language": "python",
   "name": "python3"
  },
  "language_info": {
   "codemirror_mode": {
    "name": "ipython",
    "version": 3
   },
   "file_extension": ".py",
   "mimetype": "text/x-python",
   "name": "python",
   "nbconvert_exporter": "python",
   "pygments_lexer": "ipython3",
   "version": "3.6.5"
  }
 },
 "nbformat": 4,
 "nbformat_minor": 2
}
