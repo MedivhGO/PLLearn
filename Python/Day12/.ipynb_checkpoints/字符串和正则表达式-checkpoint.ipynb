{
 "cells": [
  {
   "cell_type": "code",
   "execution_count": 1,
   "metadata": {},
   "outputs": [
    {
     "name": "stdout",
     "output_type": "stream",
     "text": [
      "开始下载python从入门到住院.pdf\n",
      "python从入门到住院.pdf下载完成！耗费了6秒\n",
      "开始下载Peking Hot.avi\n",
      "Peking Hot.avi下载完成！耗费了6秒\n",
      "总共耗费了12.01秒\n"
     ]
    }
   ],
   "source": [
    "from random import randint\n",
    "from time import time,sleep\n",
    "\n",
    "def download_task(filename):\n",
    "    print('开始下载%s' %filename)\n",
    "    time_to_download = randint(5,10)\n",
    "    sleep(time_to_download)\n",
    "    print('%s下载完成！耗费了%d秒' %(filename,time_to_download))\n",
    "\n",
    "def main():\n",
    "    start = time()\n",
    "    download_task('python从入门到住院.pdf')\n",
    "    download_task('Peking Hot.avi')\n",
    "    end = time()\n",
    "    print('总共耗费了%.2f秒' %(end-start))\n",
    "    \n",
    "if __name__ == '__main__':\n",
    "    main()\n",
    "    \n",
    "\n",
    "    "
   ]
  },
  {
   "cell_type": "code",
   "execution_count": 4,
   "metadata": {},
   "outputs": [
    {
     "name": "stderr",
     "output_type": "stream",
     "text": [
      "Process Process-5:\n",
      "Traceback (most recent call last):\n",
      "Process Process-6:\n",
      "  File \"/anaconda3/lib/python3.6/multiprocessing/process.py\", line 258, in _bootstrap\n",
      "    self.run()\n",
      "  File \"/anaconda3/lib/python3.6/multiprocessing/process.py\", line 93, in run\n",
      "    self._target(*self._args, **self._kwargs)\n",
      "Traceback (most recent call last):\n",
      "TypeError: download_task() takes 1 positional argument but 16 were given\n",
      "  File \"/anaconda3/lib/python3.6/multiprocessing/process.py\", line 258, in _bootstrap\n",
      "    self.run()\n",
      "  File \"/anaconda3/lib/python3.6/multiprocessing/process.py\", line 93, in run\n",
      "    self._target(*self._args, **self._kwargs)\n",
      "TypeError: download_task() takes 1 positional argument but 14 were given\n"
     ]
    },
    {
     "name": "stdout",
     "output_type": "stream",
     "text": [
      "总共耗费了0.04秒\n"
     ]
    }
   ],
   "source": [
    "from multiprocessing import Process\n",
    "from os import getpid\n",
    "from random import randint\n",
    "from time import time,sleep\n",
    "\n",
    "def download_task(filename):\n",
    "    print('启动下载进程,进程号[%d].' %getpid())\n",
    "    print('开始下载%s..'  %filename)\n",
    "    time_to_download = randint(5,10)\n",
    "    sleep(time_to_down)\n",
    "    print('%s下载完成!耗费了%d秒' %(filename,time_to_download))\n",
    "    \n",
    "def main():\n",
    "    start = time()\n",
    "    p1 = Process(target=download_task,args=('Python从入门到住院.pfd'))\n",
    "    p1.start()\n",
    "    p2 = Process(target=download_task,args=('Peking Hot.avi'))\n",
    "    p2.start()\n",
    "    p1.join()\n",
    "    p2.join()\n",
    "    end = time()\n",
    "    print('总共耗费了%.2f秒' %(end-start))\n",
    "\n",
    "if __name__ == '__main__':\n",
    "    main()"
   ]
  },
  {
   "cell_type": "code",
   "execution_count": null,
   "metadata": {},
   "outputs": [],
   "source": []
  }
 ],
 "metadata": {
  "kernelspec": {
   "display_name": "Python 3",
   "language": "python",
   "name": "python3"
  },
  "language_info": {
   "codemirror_mode": {
    "name": "ipython",
    "version": 3
   },
   "file_extension": ".py",
   "mimetype": "text/x-python",
   "name": "python",
   "nbconvert_exporter": "python",
   "pygments_lexer": "ipython3",
   "version": "3.6.5"
  }
 },
 "nbformat": 4,
 "nbformat_minor": 2
}
