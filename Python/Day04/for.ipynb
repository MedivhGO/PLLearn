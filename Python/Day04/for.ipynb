{
 "cells": [
  {
   "cell_type": "code",
   "execution_count": 1,
   "metadata": {},
   "outputs": [
    {
     "name": "stdout",
     "output_type": "stream",
     "text": [
      "2550\n"
     ]
    }
   ],
   "source": [
    "sum = 0\n",
    "for x in range(1,101):\n",
    "    if x % 2 == 0 :\n",
    "        sum+=x\n",
    "print (sum)"
   ]
  },
  {
   "cell_type": "code",
   "execution_count": null,
   "metadata": {},
   "outputs": [
    {
     "name": "stdout",
     "output_type": "stream",
     "text": [
      "2550\n"
     ]
    }
   ],
   "source": [
    "sum = 0\n",
    "for x in range(2,101,2):\n",
    "    sum += x\n",
    "print(sum)"
   ]
  },
  {
   "cell_type": "code",
   "execution_count": 4,
   "metadata": {},
   "outputs": [
    {
     "name": "stdout",
     "output_type": "stream",
     "text": [
      "n = 10\n",
      "10 != 3628800\n"
     ]
    }
   ],
   "source": [
    "n = int(input('n = '))\n",
    "result = 1\n",
    "for x in range(1,n+1):\n",
    "    result *= x\n",
    "print('%d! = %d' % (n,result))"
   ]
  },
  {
   "cell_type": "code",
   "execution_count": null,
   "metadata": {},
   "outputs": [
    {
     "name": "stdout",
     "output_type": "stream",
     "text": [
      "x = 10\n",
      "y = 5\n",
      "5和10的最大公约数是5\n",
      "5和10的最小公倍数是10\n"
     ]
    }
   ],
   "source": [
    "x = int(input('x = '))\n",
    "y = int(input('y = '))\n",
    "if x > y :\n",
    "    (x,y) = (y,x)\n",
    "for factor in range(x,0,-1) :\n",
    "    if x % factor == 0 and y % factor == 0:\n",
    "        print('%d和%d的最大公约数是%d' % (x,y,factor))\n",
    "        print('%d和%d的最小公倍数是%d' % (x,y,x*y//factor))\n",
    "        break"
   ]
  },
  {
   "cell_type": "code",
   "execution_count": null,
   "metadata": {},
   "outputs": [],
   "source": [
    "row = int(input('请输入行数: '))\n",
    "for i in range(row):\n",
    "    for _ in range(i+1):\n",
    "        print('*',end='')\n",
    "    print()\n",
    "for i in range(row):\n",
    "    for j in range(row):\n",
    "        if j < row -i - 1:\n",
    "            print(' ',end='')\n",
    "        else:\n",
    "            print('*',end='')\n",
    "    print()\n",
    "for i in range(row):\n",
    "    for _ in range(row-1-i):\n",
    "        print(' ',end='')\n",
    "    for _ in range(2 * i + 1):\n",
    "        print('*',end='')\n",
    "        "
   ]
  }
 ],
 "metadata": {
  "kernelspec": {
   "display_name": "Python 3",
   "language": "python",
   "name": "python3"
  },
  "language_info": {
   "codemirror_mode": {
    "name": "ipython",
    "version": 3
   },
   "file_extension": ".py",
   "mimetype": "text/x-python",
   "name": "python",
   "nbconvert_exporter": "python",
   "pygments_lexer": "ipython3",
   "version": "3.6.5"
  }
 },
 "nbformat": 4,
 "nbformat_minor": 2
}
