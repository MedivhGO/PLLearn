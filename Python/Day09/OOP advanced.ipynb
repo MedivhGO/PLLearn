{
 "cells": [
  {
   "cell_type": "code",
   "execution_count": 1,
   "metadata": {
    "collapsed": false
   },
   "outputs": [
    {
     "name": "stdout",
     "output_type": "stream",
     "text": [
      "王大锤正在玩飞行棋.\n",
      "王大锤正在玩斗地主.\n"
     ]
    }
   ],
   "source": [
    "class Person(object):\n",
    "    \n",
    "    def __init__(self,name,age):\n",
    "        self._name = name\n",
    "        self._age = age\n",
    "    #访问器 -- getter方法\n",
    "    @property\n",
    "    def name(self):\n",
    "        return self._name\n",
    "    @property\n",
    "    def age(self):\n",
    "        return self._age\n",
    "    \n",
    "    #修改器 -- setter\n",
    "    @age.setter\n",
    "    def age(self,age):\n",
    "        self._age = age\n",
    "    \n",
    "    def play(self):\n",
    "        if self._age <= 16:\n",
    "            print('%s正在玩飞行棋.' %self._name)\n",
    "        else:\n",
    "            print('%s正在玩斗地主.' %self._name)\n",
    "def main():\n",
    "    person = Person('王大锤', 12)\n",
    "    person.play()\n",
    "    person.age = 22\n",
    "    person.play()\n",
    "if __name__ == '__main__':\n",
    "    main()\n",
    "    "
   ]
  },
  {
   "cell_type": "code",
   "execution_count": 1,
   "metadata": {},
   "outputs": [
    {
     "name": "stdout",
     "output_type": "stream",
     "text": [
      "aaa play dou di zhu.\n"
     ]
    }
   ],
   "source": [
    "#动态语言允许我们在程序运行的时候给对象绑定新的属性和方法，也可以对已经绑定的属性和方法进行解绑。\n",
    "#但是如果我们需要限定自定义类型的对象只能绑定某些属性，可以通过在类中定义__slots__变量来进行限定。__slots__的限定只对当前\n",
    "#类的对象生效，对子类并不起任何作用\n",
    "\n",
    "class Person(object):\n",
    "    __slot__ = ('_name','_age','_gender')\n",
    "    \n",
    "    def __init__(self,name,age):\n",
    "        self._name = name\n",
    "        self._age = age\n",
    "    @property\n",
    "    def name(self):\n",
    "        return self._name\n",
    "    @property\n",
    "    def age(self):\n",
    "        return self._age\n",
    "    @age.setter\n",
    "    def age(self,age):\n",
    "        self._age = age\n",
    "    \n",
    "    def play(self):\n",
    "        if self._age <= 16:\n",
    "            print('%s play fly chess.' %self._name)\n",
    "        else:\n",
    "            print('%s play dou di zhu.' %self._name)\n",
    "\n",
    "def main():\n",
    "    person = Person('aaa',22)\n",
    "    person.play()\n",
    "    person._gender = '男'\n",
    "if __name__ == '__main__':\n",
    "    main()"
   ]
  },
  {
   "cell_type": "code",
   "execution_count": 2,
   "metadata": {},
   "outputs": [
    {
     "name": "stdout",
     "output_type": "stream",
     "text": [
      "12\n",
      "6.0\n"
     ]
    }
   ],
   "source": [
    "#静态方法和类方法\n",
    "\n",
    "from math import sqrt\n",
    "\n",
    "class Triangle(object):\n",
    "    def __init__(self,a,b,c):\n",
    "        self._a = a\n",
    "        self._b = b\n",
    "        self._c = c\n",
    "    @staticmethod  #静态方法\n",
    "    def is_valid(a,b,c):\n",
    "        return a+b>c and b+c>a and a+c>b\n",
    "    def perimeter(self):\n",
    "        return self._a + self._b + self._c\n",
    "    def area(self):\n",
    "        half = self.perimeter() / 2\n",
    "        return sqrt(half * (half - self._a)*(half - self._b)*(half - self._c))\n",
    "def main():\n",
    "    a,b,c = 3,4,5\n",
    "    if Triangle.is_valid(a,b,c):\n",
    "        t = Triangle(a,b,c)\n",
    "        print(t.perimeter())\n",
    "        print(t.area())\n",
    "    else:\n",
    "        print('无法构成三角形')\n",
    "if __name__ == '__main__':\n",
    "    main()"
   ]
  },
  {
   "cell_type": "code",
   "execution_count": 4,
   "metadata": {},
   "outputs": [
    {
     "name": "stdout",
     "output_type": "stream",
     "text": [
      "13:54:42\n",
      "13:54:43\n",
      "13:54:44\n",
      "13:54:45\n",
      "13:54:46\n",
      "13:54:47\n",
      "13:54:48\n"
     ]
    },
    {
     "ename": "KeyboardInterrupt",
     "evalue": "",
     "traceback": [
      "\u001b[0;31m---------------------------------------------------------------------------\u001b[0m",
      "\u001b[0;31mKeyboardInterrupt\u001b[0m                         Traceback (most recent call last)",
      "\u001b[0;32m<ipython-input-4-7a2c06d8aba6>\u001b[0m in \u001b[0;36m<module>\u001b[0;34m()\u001b[0m\n\u001b[1;32m     33\u001b[0m         \u001b[0mclock\u001b[0m\u001b[0;34m.\u001b[0m\u001b[0mrun\u001b[0m\u001b[0;34m(\u001b[0m\u001b[0;34m)\u001b[0m\u001b[0;34m\u001b[0m\u001b[0m\n\u001b[1;32m     34\u001b[0m \u001b[0;32mif\u001b[0m \u001b[0m__name__\u001b[0m \u001b[0;34m==\u001b[0m \u001b[0;34m'__main__'\u001b[0m\u001b[0;34m:\u001b[0m\u001b[0;34m\u001b[0m\u001b[0m\n\u001b[0;32m---> 35\u001b[0;31m     \u001b[0mmain\u001b[0m\u001b[0;34m(\u001b[0m\u001b[0;34m)\u001b[0m\u001b[0;34m\u001b[0m\u001b[0m\n\u001b[0m",
      "\u001b[0;32m<ipython-input-4-7a2c06d8aba6>\u001b[0m in \u001b[0;36mmain\u001b[0;34m()\u001b[0m\n\u001b[1;32m     30\u001b[0m     \u001b[0;32mwhile\u001b[0m \u001b[0;32mTrue\u001b[0m\u001b[0;34m:\u001b[0m\u001b[0;34m\u001b[0m\u001b[0m\n\u001b[1;32m     31\u001b[0m         \u001b[0mprint\u001b[0m\u001b[0;34m(\u001b[0m\u001b[0mclock\u001b[0m\u001b[0;34m.\u001b[0m\u001b[0mshow\u001b[0m\u001b[0;34m(\u001b[0m\u001b[0;34m)\u001b[0m\u001b[0;34m)\u001b[0m\u001b[0;34m\u001b[0m\u001b[0m\n\u001b[0;32m---> 32\u001b[0;31m         \u001b[0msleep\u001b[0m\u001b[0;34m(\u001b[0m\u001b[0;36m1\u001b[0m\u001b[0;34m)\u001b[0m\u001b[0;34m\u001b[0m\u001b[0m\n\u001b[0m\u001b[1;32m     33\u001b[0m         \u001b[0mclock\u001b[0m\u001b[0;34m.\u001b[0m\u001b[0mrun\u001b[0m\u001b[0;34m(\u001b[0m\u001b[0;34m)\u001b[0m\u001b[0;34m\u001b[0m\u001b[0m\n\u001b[1;32m     34\u001b[0m \u001b[0;32mif\u001b[0m \u001b[0m__name__\u001b[0m \u001b[0;34m==\u001b[0m \u001b[0;34m'__main__'\u001b[0m\u001b[0;34m:\u001b[0m\u001b[0;34m\u001b[0m\u001b[0m\n",
      "\u001b[0;31mKeyboardInterrupt\u001b[0m: "
     ],
     "output_type": "error"
    }
   ],
   "source": [
    "#和静态方法比较类似，Python还可以在类中定义类方法，类方法的第一个参数约定名为cls，它代表的是当前类相关\n",
    "#的信息的对象，（类本身也是一个对象，有的地方也称之为类的元数据对象），通过这个参数我们可以获取和类相关的信息并且可以\n",
    "#创建出类的对象\n",
    "from time import time,localtime,sleep\n",
    "\n",
    "class Clock(object):\n",
    "    \n",
    "    def __init__(self,hour=0,minute=0,second=0):\n",
    "        self._hour = hour\n",
    "        self._minute = minute\n",
    "        self._second = second\n",
    "    @classmethod\n",
    "    def now(cls):\n",
    "        ctime = localtime(time())\n",
    "        return cls(ctime.tm_hour,ctime.tm_min,ctime.tm_sec)\n",
    "    def run(self):\n",
    "        self._second += 1\n",
    "        if self._second == 60:\n",
    "            self._second = 0\n",
    "            self._minute += 1\n",
    "            if self._minute == 60:\n",
    "                self._minute = 0\n",
    "                self._hour += 1\n",
    "                if self._hour == 24:\n",
    "                    self._hour = 0\n",
    "    def show(self):\n",
    "        return '%02d:%02d:%02d' % \\\n",
    "               (self._hour, self._minute, self._second)\n",
    "def main():\n",
    "    clock = Clock.now()\n",
    "    while True:\n",
    "        print(clock.show())\n",
    "        sleep(1)\n",
    "        clock.run()\n",
    "if __name__ == '__main__':\n",
    "    main()"
   ]
  },
  {
   "cell_type": "code",
   "execution_count": 8,
   "metadata": {
    "collapsed": false
   },
   "outputs": [
    {
     "name": "stdout",
     "output_type": "stream",
     "text": [
      "初三的打的正在学习数学.\n",
      "打的 watch xiong\n",
      "螺号老教授正在讲python程序设计.\n",
      "螺号 watch av\n"
     ]
    }
   ],
   "source": [
    "class Person(object):\n",
    "    \n",
    "    def __init__(self,name,age):\n",
    "        self._name = name\n",
    "        self._age = age\n",
    "    @property\n",
    "    def name(self):\n",
    "        return _name\n",
    "    @property\n",
    "    def age(self):\n",
    "        return _age\n",
    "    @age.setter\n",
    "    def age(self,age):\n",
    "        self._age = age\n",
    "    def play(self):\n",
    "        print('%s正在愉快的玩耍.' %self._name)\n",
    "    def watch_av(self):\n",
    "        if self._age < 18:\n",
    "            print('%s watch xiong' %self._name)\n",
    "        else:\n",
    "            print('%s watch av' %self._name)\n",
    "class Student(Person):\n",
    "    \n",
    "    def __init__(self,name,age,grade):\n",
    "        super().__init__(name,age)\n",
    "        self._grade = grade\n",
    "    @property\n",
    "    def grade(self):\n",
    "        return self._grade\n",
    "    @grade.setter\n",
    "    def grade(self,grade):\n",
    "        self._grade = grade\n",
    "    def study(self,course):\n",
    "        print('%s的%s正在学习%s.' %(self._grade,self._name,course))\n",
    "        \n",
    "class Teacher(Person):\n",
    "    def __init__(self,name,age,title):\n",
    "        super().__init__(name,age)\n",
    "        self._title = title\n",
    "    @property\n",
    "    def title(self):\n",
    "        return self._title\n",
    "    @title.setter\n",
    "    def title(self,title):\n",
    "        self._title = title\n",
    "    def teach(self,course):\n",
    "        print('%s%s正在讲%s.' %(self._name,self._title,course))\n",
    "def main():\n",
    "    stu = Student('打的',15,'初三')\n",
    "    stu.study('数学')\n",
    "    stu.watch_av()\n",
    "    t = Teacher('螺号',38,'老教授')\n",
    "    t.teach('python程序设计')\n",
    "    t.watch_av()\n",
    "    \n",
    "if __name__ == '__main__':\n",
    "    main()\n",
    "    "
   ]
  },
  {
   "cell_type": "code",
   "execution_count": null,
   "metadata": {},
   "outputs": [],
   "source": [
    "from abc import ABCMeta,abstractmethod\n",
    "\n",
    "class Pet(object,metaclass=ABCMeta):\n",
    "    def __init__(self,nickname):\n",
    "        self._nickname = nickname\n",
    "    @abstractmethod\n",
    "    def make_voice(self):\n",
    "        pass\n",
    "\n",
    "class Dog(Pet):\n",
    "    \n",
    "    def make_voice(self):\n",
    "        print('%s: wangwangwang' %self._nickname)\n",
    "\n",
    "class Cat(Pet):\n",
    "    \n",
    "    def make_voice(self):\n",
    "        print('%s: miaomiaomiao' %self._nickname)\n",
    "\n",
    "def main():\n",
    "    pets = [Dog('wacai'),Cat('k')]"
   ]
  }
 ],
 "metadata": {
  "kernelspec": {
   "display_name": "Python 3",
   "language": "python",
   "name": "python3"
  },
  "language_info": {
   "codemirror_mode": {
    "name": "ipython",
    "version": 3
   },
   "file_extension": ".py",
   "mimetype": "text/x-python",
   "name": "python",
   "nbconvert_exporter": "python",
   "pygments_lexer": "ipython3",
   "version": "3.6.5"
  }
 },
 "nbformat": 4,
 "nbformat_minor": 2
}
