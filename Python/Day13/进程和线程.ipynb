{
 "cells": [
  {
   "cell_type": "code",
   "execution_count": 1,
   "metadata": {},
   "outputs": [
    {
     "name": "stdout",
     "output_type": "stream",
     "text": [
      "开始下载python从入门到住院.pdf\n",
      "python从入门到住院.pdf下载完成！耗费了6秒\n",
      "开始下载Peking Hot.avi\n",
      "Peking Hot.avi下载完成！耗费了6秒\n",
      "总共耗费了12.01秒\n"
     ]
    }
   ],
   "source": [
    "from random import randint\n",
    "from time import time,sleep\n",
    "\n",
    "def download_task(filename):\n",
    "    print('开始下载%s' %filename)\n",
    "    time_to_download = randint(5,10)\n",
    "    sleep(time_to_download)\n",
    "    print('%s下载完成！耗费了%d秒' %(filename,time_to_download))\n",
    "\n",
    "def main():\n",
    "    start = time()\n",
    "    download_task('python从入门到住院.pdf')\n",
    "    download_task('Peking Hot.avi')\n",
    "    end = time()\n",
    "    print('总共耗费了%.2f秒' %(end-start))\n",
    "    \n",
    "if __name__ == '__main__':\n",
    "    main()"
   ]
  },
  {
   "cell_type": "code",
   "execution_count": 4,
   "metadata": {},
   "outputs": [
    {
     "name": "stderr",
     "output_type": "stream",
     "text": [
      "Process Process-5:\n",
      "Traceback (most recent call last):\n",
      "Process Process-6:\n",
      "  File \"/anaconda3/lib/python3.6/multiprocessing/process.py\", line 258, in _bootstrap\n",
      "    self.run()\n",
      "  File \"/anaconda3/lib/python3.6/multiprocessing/process.py\", line 93, in run\n",
      "    self._target(*self._args, **self._kwargs)\n",
      "Traceback (most recent call last):\n",
      "TypeError: download_task() takes 1 positional argument but 16 were given\n",
      "  File \"/anaconda3/lib/python3.6/multiprocessing/process.py\", line 258, in _bootstrap\n",
      "    self.run()\n",
      "  File \"/anaconda3/lib/python3.6/multiprocessing/process.py\", line 93, in run\n",
      "    self._target(*self._args, **self._kwargs)\n",
      "TypeError: download_task() takes 1 positional argument but 14 were given\n"
     ]
    },
    {
     "name": "stdout",
     "output_type": "stream",
     "text": [
      "总共耗费了0.04秒\n"
     ]
    }
   ],
   "source": [
    "from multiprocessing import Process\n",
    "from os import getpid\n",
    "from random import randint\n",
    "from time import time,sleep\n",
    "\n",
    "def download_task(filename):\n",
    "    print('启动下载进程,进程号[%d].' %getpid())\n",
    "    print('开始下载%s..'  %filename)\n",
    "    time_to_download = randint(5,10)\n",
    "    sleep(time_to_down)\n",
    "    print('%s下载完成!耗费了%d秒' %(filename,time_to_download))\n",
    "    \n",
    "def main():\n",
    "    start = time()\n",
    "    p1 = Process(target=download_task,args=('Python从入门到住院.pfd'))\n",
    "    p1.start()\n",
    "    p2 = Process(target=download_task,args=('Peking Hot.avi'))\n",
    "    p2.start()\n",
    "    p1.join() #等待进程执行结束\n",
    "    p2.join()\n",
    "    end = time()\n",
    "    print('总共耗费了%.2f秒' %(end-start))\n",
    "\n",
    "if __name__ == '__main__':\n",
    "    main()"
   ]
  },
  {
   "cell_type": "code",
   "execution_count": 2,
   "metadata": {},
   "outputs": [
    {
     "name": "stdout",
     "output_type": "stream",
     "text": [
      "Ping\n",
      "Pong\n",
      "Ping\n",
      "Pong\n",
      "Ping\n",
      "Pong\n",
      "Ping\n",
      "Pong\n",
      "Ping\n",
      "Pong\n",
      "Ping\n",
      "Ping\n",
      "Pong\n",
      "Ping\n",
      "Pong\n",
      "Ping\n",
      "Pong\n",
      "Ping\n",
      "Pong\n",
      "Pong\n"
     ]
    }
   ],
   "source": [
    "from multiprocessing import Process\n",
    "from time import sleep\n",
    "\n",
    "counter = 0\n",
    "\n",
    "def sub_task(string):\n",
    "    global counter\n",
    "    while counter < 10 :\n",
    "        print(string,flush=True)\n",
    "        counter+=1\n",
    "        sleep(0.01)\n",
    "def main():\n",
    "    Process(target=sub_task,args=('Ping',)).start()\n",
    "    Process(target=sub_task,args=('Pong',)).start()\n",
    "    \n",
    "if __name__ =='__main__':\n",
    "    main()"
   ]
  },
  {
   "cell_type": "code",
   "execution_count": 4,
   "metadata": {},
   "outputs": [
    {
     "name": "stdout",
     "output_type": "stream",
     "text": [
      "总共耗费了0.005秒\n"
     ]
    },
    {
     "name": "stderr",
     "output_type": "stream",
     "text": [
      "Exception in thread Thread-4:\n",
      "Traceback (most recent call last):\n",
      "  File \"/anaconda3/lib/python3.6/threading.py\", line 916, in _bootstrap_inner\n",
      "    self.run()\n",
      "  File \"/anaconda3/lib/python3.6/threading.py\", line 864, in run\n",
      "    self._target(*self._args, **self._kwargs)\n",
      "TypeError: download() takes 1 positional argument but 16 were given\n",
      "\n",
      "Exception in thread Thread-5:\n",
      "Traceback (most recent call last):\n",
      "  File \"/anaconda3/lib/python3.6/threading.py\", line 916, in _bootstrap_inner\n",
      "    self.run()\n",
      "  File \"/anaconda3/lib/python3.6/threading.py\", line 864, in run\n",
      "    self._target(*self._args, **self._kwargs)\n",
      "TypeError: download() takes 1 positional argument but 14 were given\n",
      "\n"
     ]
    }
   ],
   "source": [
    "from random import randint\n",
    "from threading import Thread\n",
    "from time import time,sleep\n",
    "\n",
    "def download(filename):\n",
    "    print('开始下载%s' %filename)\n",
    "    time_to_download = randint(5,10)\n",
    "    sleep(time_to_download)\n",
    "    print('%s下载完成！耗费了%d秒' %(filename,time_to_download))\n",
    "\n",
    "def main():\n",
    "    start = time()\n",
    "    t1 = Thread(target=download,args=('Python从入门到精通.pdf'))\n",
    "    t1.start()\n",
    "    t2 = Thread(target=download,args=('Peking hot.avi'))\n",
    "    t2.start()\n",
    "    t1.join()\n",
    "    t2.join()\n",
    "    end = time()\n",
    "    print('总共耗费了%.3f秒' %(end - start))\n",
    "if __name__ == '__main__' :\n",
    "    main()"
   ]
  },
  {
   "cell_type": "code",
   "execution_count": 2,
   "metadata": {},
   "outputs": [
    {
     "name": "stdout",
     "output_type": "stream",
     "text": [
      "开始下载Python 从入门到精通.pfd...\n",
      "开始下载Peking hot.avi...\n",
      "Python 从入门到精通.pfd下载完成!耗费了5秒\n",
      "Peking hot.avi下载完成!耗费了10秒\n",
      "总共耗费了10.01秒\n"
     ]
    }
   ],
   "source": [
    "from random import randint\n",
    "from threading import Thread\n",
    "from time import time,sleep\n",
    "\n",
    "class DownLoadTask(Thread):\n",
    "    def __init__(self,filename):\n",
    "        super().__init__()\n",
    "        self._filename = filename\n",
    "    def run(self):\n",
    "        print('开始下载%s...' %self._filename)\n",
    "        time_to_download = randint(5,10)\n",
    "        sleep(time_to_download)\n",
    "        print('%s下载完成!耗费了%d秒' %(self._filename,time_to_download))\n",
    "\n",
    "def main():\n",
    "    start = time()\n",
    "    t1 = DownLoadTask('Python 从入门到精通.pfd')\n",
    "    t1.start()\n",
    "    t2 = DownLoadTask('Peking hot.avi')\n",
    "    t2.start()\n",
    "    t1.join()\n",
    "    t2.join()\n",
    "    end = time()\n",
    "    print('总共耗费了%.2f秒' %(end-start))\n",
    "\n",
    "if __name__ == '__main__':\n",
    "    main()\n"
   ]
  },
  {
   "cell_type": "code",
   "execution_count": null,
   "metadata": {},
   "outputs": [],
   "source": [
    "from time import sleep\n",
    "from threading import Thread\n",
    "\n",
    "class Account(object):\n",
    "    \n",
    "    def __init__(self):\n",
    "        self._balance = 0\n",
    "    \n",
    "    def deposit(self,money):\n",
    "        new_balance = self._balance + money\n",
    "        sleep(0.01)\n",
    "        self._balance = new_balance\n",
    "    @property\n",
    "    def balance(self):\n",
    "        return self._balance\n",
    "class AddMoneyThread(Thread):\n",
    "    \n",
    "    def __init__(self,account,money):\n",
    "        super().__init__()\n",
    "        self._account = account\n",
    "        self._money = money\n",
    "    \n",
    "    def run(self):\n",
    "        self._account.deposit(self._money)\n",
    "def main():\n",
    "    account = Account()\n",
    "    threads = []\n",
    "    # 创建100个存款的线程想同一个账户中存钱\n",
    "    for _ in range(100):\n",
    "        t = AddMoneyThread(account,1)\n",
    "        threads.append(t)\n",
    "        t.start()\n",
    "    # 等所有存款的线程都执行wan\n",
    "    for t in threads:\n",
    "        t.join()\n",
    "    print('账号余额： %d 元' %account.balance)\n",
    "\n",
    "if __name__ == '__main__':\n",
    "    main()\n",
    "\n"
   ]
  }
 ],
 "metadata": {
  "kernelspec": {
   "display_name": "Python 3",
   "language": "python",
   "name": "python3"
  },
  "language_info": {
   "codemirror_mode": {
    "name": "ipython",
    "version": 3
   },
   "file_extension": ".py",
   "mimetype": "text/x-python",
   "name": "python",
   "nbconvert_exporter": "python",
   "pygments_lexer": "ipython3",
   "version": "3.6.5"
  }
 },
 "nbformat": 4,
 "nbformat_minor": 2
}
