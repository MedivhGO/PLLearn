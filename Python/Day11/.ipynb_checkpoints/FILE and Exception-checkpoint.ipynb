{
 "cells": [
  {
   "cell_type": "code",
   "execution_count": 6,
   "metadata": {},
   "outputs": [
    {
     "name": "stdout",
     "output_type": "stream",
     "text": [
      "\n"
     ]
    }
   ],
   "source": [
    "#若open函数指定的文件并不存在或者无法打开，那么将引发异常状况导致程序崩溃。\n",
    "def main():\n",
    "    f = open('致橡树.txt','r',encoding='utf-8')\n",
    "    print(f.read())\n",
    "    f.close()\n",
    "if __name__ == '__main__':\n",
    "    main()"
   ]
  },
  {
   "cell_type": "code",
   "execution_count": 7,
   "metadata": {},
   "outputs": [
    {
     "name": "stdout",
     "output_type": "stream",
     "text": [
      "\n"
     ]
    }
   ],
   "source": [
    "#添加了异常的\n",
    "def main():\n",
    "    f = None\n",
    "    try:\n",
    "        f = open('致橡树.txt','r',encoding='utf-8')\n",
    "        print(f.read())\n",
    "    except FileNotFoundError:\n",
    "        print('无法打开指定文件')\n",
    "    except LookupError:\n",
    "        print('指定了未知的编码')\n",
    "    except UnicodeDecoderError:\n",
    "        print('读取文件时解码错误')\n",
    "    finally:  #无所程序正常还是异常都会执行到，甚至是调用了sys模块的exit函数退出python环境，finally块都会被执行，因为exit函数实质上\n",
    "        if f: #是引发了SystemExit异常，因此我们通常把finally块称为‘总是执行代码块’\n",
    "            f.close()\n",
    "if __name__ == '__main__':\n",
    "    main()"
   ]
  },
  {
   "cell_type": "code",
   "execution_count": 8,
   "metadata": {},
   "outputs": [
    {
     "ename": "SyntaxError",
     "evalue": "unexpected EOF while parsing (<ipython-input-8-a79ed49c8885>, line 2)",
     "output_type": "error",
     "traceback": [
      "\u001b[0;36m  File \u001b[0;32m\"<ipython-input-8-a79ed49c8885>\"\u001b[0;36m, line \u001b[0;32m2\u001b[0m\n\u001b[0;31m    def main():\u001b[0m\n\u001b[0m               ^\u001b[0m\n\u001b[0;31mSyntaxError\u001b[0m\u001b[0;31m:\u001b[0m unexpected EOF while parsing\n"
     ]
    }
   ],
   "source": [
    "#通过with关键字指定文件对象的上下文环境，并在离开上下文环境时自动释放文件资源\n",
    "def main():\n",
    "    try:\n",
    "        with open('致橡树.txt','r',encoding='utf-8') as f:\n",
    "            print(f.read())\n",
    "    except FileNotFoundError:\n",
    "        print('无法打开指定文件')\n",
    "    except LookupError:\n",
    "        print('指定了未知的编码')\n",
    "    except UnicodeDecoderError:\n",
    "        print('读取文件时解码错误')\n",
    "    "
   ]
  },
  {
   "cell_type": "code",
   "execution_count": null,
   "metadata": {},
   "outputs": [],
   "source": []
  }
 ],
 "metadata": {
  "kernelspec": {
   "display_name": "Python 3",
   "language": "python",
   "name": "python3"
  },
  "language_info": {
   "codemirror_mode": {
    "name": "ipython",
    "version": 3
   },
   "file_extension": ".py",
   "mimetype": "text/x-python",
   "name": "python",
   "nbconvert_exporter": "python",
   "pygments_lexer": "ipython3",
   "version": "3.6.5"
  }
 },
 "nbformat": 4,
 "nbformat_minor": 2
}
