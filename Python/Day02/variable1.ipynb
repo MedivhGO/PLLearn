{
 "cells": [
  {
   "cell_type": "code",
   "execution_count": 3,
   "metadata": {},
   "outputs": [
    {
     "name": "stdout",
     "output_type": "stream",
     "text": [
      "444\n",
      "198\n",
      "39483\n",
      "2.6097560975609757\n",
      "2\n",
      "75\n",
      "199580904170858944588683464608694075062943107082809027605498347841561605181074274426665986623764972439807786764739130193391688887305693295698132008415537889753720415793877902074665765736230030622222862498385818118244547668141388643750880896837470534556730014314212951333550122949806119583030226121714710874561\n"
     ]
    }
   ],
   "source": [
    "a = 321\n",
    "b = 123\n",
    "print(a + b)\n",
    "print(a - b)\n",
    "print(a * b)\n",
    "print(a / b)\n",
    "print(a // b)\n",
    "print(a % b)\n",
    "print(a ** b)"
   ]
  },
  {
   "cell_type": "code",
   "execution_count": 4,
   "metadata": {},
   "outputs": [
    {
     "name": "stdout",
     "output_type": "stream",
     "text": [
      "a = 2\n",
      "b = 3\n",
      "5\n",
      "-1\n",
      "6\n",
      "0.6666666666666666\n",
      "0\n",
      "2\n",
      "8\n"
     ]
    }
   ],
   "source": [
    "a = int(input('a = '))\n",
    "b = int(input('b = '))\n",
    "print(a + b)\n",
    "print(a - b)\n",
    "print(a * b)\n",
    "print(a / b)\n",
    "print(a // b)\n",
    "print(a % b)\n",
    "print(a ** b)"
   ]
  },
  {
   "cell_type": "code",
   "execution_count": 5,
   "metadata": {},
   "outputs": [
    {
     "name": "stdout",
     "output_type": "stream",
     "text": [
      "a = 1\n",
      "b = 2\n",
      "1 + 2 = 3\n",
      "1 - 2 = -1\n",
      "1 * 2 = 2\n",
      "1 / 2 = 0\n",
      "1 // 2 = 0\n",
      "1 % 2 = 1\n",
      "1 ** 2 = 1\n"
     ]
    }
   ],
   "source": [
    "a = int(input('a = '))\n",
    "b = int(input('b = '))\n",
    "print('%d + %d = %d' %(a,b,a+b))\n",
    "print('%d - %d = %d' %(a,b,a-b))\n",
    "print('%d * %d = %d' %(a,b,a*b))\n",
    "print('%d / %d = %d' %(a,b,a/b))\n",
    "print('%d // %d = %d' %(a,b,a//b))\n",
    "print('%d %% %d = %d' %(a,b,a%b))\n",
    "print('%d ** %d = %d' %(a,b,a**b))"
   ]
  },
  {
   "cell_type": "code",
   "execution_count": 6,
   "metadata": {},
   "outputs": [
    {
     "name": "stdout",
     "output_type": "stream",
     "text": [
      "<class 'int'>\n",
      "<class 'int'>\n",
      "<class 'float'>\n",
      "<class 'complex'>\n",
      "<class 'str'>\n",
      "<class 'str'>\n",
      "<class 'bool'>\n"
     ]
    }
   ],
   "source": [
    "a = 100\n",
    "b = 1000000000000000000000000\n",
    "c = 12.345\n",
    "d = 1 + 5j\n",
    "e = 'A'\n",
    "f = 'hello, world'\n",
    "g = True\n",
    "print(type(a))\n",
    "print(type(b))\n",
    "print(type(c))\n",
    "print(type(d))\n",
    "print(type(e))\n",
    "print(type(f))\n",
    "print(type(g))"
   ]
  },
  {
   "cell_type": "code",
   "execution_count": 8,
   "metadata": {},
   "outputs": [
    {
     "name": "stdout",
     "output_type": "stream",
     "text": [
      "100\n",
      "<class 'int'>\n",
      "100\n",
      "<class 'str'>\n",
      "12.345\n",
      "<class 'float'>\n",
      "12.345\n",
      "<class 'str'>\n",
      "123\n",
      "<class 'str'>\n",
      "123\n",
      "<class 'int'>\n",
      "123.456\n",
      "<class 'str'>\n",
      "hello\n",
      "<class 'str'>\n",
      "True\n",
      "<class 'bool'>\n"
     ]
    }
   ],
   "source": [
    "a = 100\n",
    "b = str(a)\n",
    "c = 12.345\n",
    "d = str(c)\n",
    "e = '123'\n",
    "f = int(e)\n",
    "g = '123.456'\n",
    "h = float(g)\n",
    "i = False\n",
    "j = str(i)\n",
    "k = 'hello'\n",
    "m = bool(k)\n",
    "print(a)\n",
    "print(type(a))\n",
    "print(b)\n",
    "print(type(b))\n",
    "print(c)\n",
    "print(type(c))\n",
    "print(d)\n",
    "print(type(d))\n",
    "print(e)\n",
    "print(type(e))\n",
    "print(f)\n",
    "print(type(f))\n",
    "print(g)\n",
    "print(type(g))\n",
    "print(k)\n",
    "print(type(k))\n",
    "print(m)\n",
    "print(type(m))"
   ]
  },
  {
   "cell_type": "code",
   "execution_count": null,
   "metadata": {},
   "outputs": [],
   "source": []
  }
 ],
 "metadata": {
  "kernelspec": {
   "display_name": "Python 3",
   "language": "python",
   "name": "python3"
  },
  "language_info": {
   "codemirror_mode": {
    "name": "ipython",
    "version": 3
   },
   "file_extension": ".py",
   "mimetype": "text/x-python",
   "name": "python",
   "nbconvert_exporter": "python",
   "pygments_lexer": "ipython3",
   "version": "3.6.5"
  }
 },
 "nbformat": 4,
 "nbformat_minor": 2
}
